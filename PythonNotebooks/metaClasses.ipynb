{
 "cells": [
  {
   "cell_type": "markdown",
   "metadata": {},
   "source": [
    "## Meta Classes in Python\n",
    "In Python, everything is an object,  \n",
    "including classes. The type of a class is called a metaclass.    \n",
    "By default, the metaclass for most classes is type.  \n",
    "However, you can create custom metaclasses to control the creation and behavior of classes."
   ]
  },
  {
   "cell_type": "markdown",
   "metadata": {},
   "source": [
    "## 1. Understanding type()  \n",
    "The type() function is used to check the type of an object.  \n",
    "When used with one argument,     \n",
    "it returns the type of the object.   \n",
    "When used with three arguments,   \n",
    "it dynamically creates a new class."
   ]
  },
  {
   "cell_type": "code",
   "execution_count": 29,
   "metadata": {},
   "outputs": [
    {
     "name": "stdout",
     "output_type": "stream",
     "text": [
      "<class 'int'>\n"
     ]
    }
   ],
   "source": [
    "print(type(1)) # Type of integer"
   ]
  },
  {
   "cell_type": "code",
   "execution_count": 2,
   "metadata": {},
   "outputs": [
    {
     "name": "stdout",
     "output_type": "stream",
     "text": [
      "<class 'float'>\n"
     ]
    }
   ],
   "source": [
    "print(type(1.0)) # Type of float"
   ]
  },
  {
   "cell_type": "code",
   "execution_count": 5,
   "metadata": {},
   "outputs": [
    {
     "name": "stdout",
     "output_type": "stream",
     "text": [
      "<class 'function'>\n"
     ]
    }
   ],
   "source": [
    "def func():\n",
    "    pass\n",
    "\n",
    "print(type(func)) # Type of function"
   ]
  },
  {
   "cell_type": "code",
   "execution_count": 6,
   "metadata": {},
   "outputs": [
    {
     "name": "stdout",
     "output_type": "stream",
     "text": [
      "<class 'type'>\n"
     ]
    }
   ],
   "source": [
    "class MyClass:\n",
    "    pass\n",
    "\n",
    "print(type(MyClass)) # Type of class"
   ]
  },
  {
   "cell_type": "markdown",
   "metadata": {},
   "source": [
    "## 2. Dynamically Creating Classes  \n",
    "You can use type() to create classes dynamically.   \n",
    "`type`(**`class_name`**, **`base_classes`**, **`attributes`**)   \n",
    "    - **`class_name`**: Name of the class (string).  \n",
    "    - **`base_classes`**: Tuple of base classes (for inheritance).   \n",
    "    - **`attributes`**: Dictionary of attributes (methods and variables)."
   ]
  },
  {
   "cell_type": "markdown",
   "metadata": {},
   "source": [
    "### Example 1: Creating a Basic Class Dynamically"
   ]
  },
  {
   "cell_type": "code",
   "execution_count": 19,
   "metadata": {},
   "outputs": [
    {
     "name": "stdout",
     "output_type": "stream",
     "text": [
      "<class 'type'>\n"
     ]
    }
   ],
   "source": [
    "# Creating a class dynamically\n",
    "TestCls = type('TestCls', (), {})  # No base classes or attributes\n",
    "print(type(TestCls))  # <class 'type'> - Type of dynamically created class"
   ]
  },
  {
   "cell_type": "markdown",
   "metadata": {},
   "source": [
    "### Example 2: Adding Attributes to the Class"
   ]
  },
  {
   "cell_type": "code",
   "execution_count": 20,
   "metadata": {},
   "outputs": [
    {
     "name": "stdout",
     "output_type": "stream",
     "text": [
      "x = 1\n",
      "y = 2\n"
     ]
    }
   ],
   "source": [
    "# Creating a class with attributes\n",
    "TestCls = type('TestCls', (), {'x': 1, 'y': 2})\n",
    "print(f'x = {TestCls.x}')  # Accessing attribute x\n",
    "print(f'y = {TestCls.y}')  # Accessing attribute y"
   ]
  },
  {
   "cell_type": "markdown",
   "metadata": {},
   "source": [
    "### 3. Inheritance with Dynamically Created Classes"
   ]
  },
  {
   "cell_type": "code",
   "execution_count": 21,
   "metadata": {},
   "outputs": [
    {
     "name": "stdout",
     "output_type": "stream",
     "text": [
      "This is Player\n"
     ]
    }
   ],
   "source": [
    "# Base class\n",
    "class Player:\n",
    "    def show(self):\n",
    "        print('This is Player')\n",
    "\n",
    "# Creating a class dynamically with a base class and attributes\n",
    "TestCls = type('TestCls', (Player,), {'x': 1, 'y': 2})\n",
    "obj = TestCls()\n",
    "obj.show()  # Calling inherited method from Player"
   ]
  },
  {
   "cell_type": "markdown",
   "metadata": {},
   "source": [
    "### 4. Adding Methods to Dynamically Created Classes"
   ]
  },
  {
   "cell_type": "code",
   "execution_count": 22,
   "metadata": {},
   "outputs": [
    {
     "name": "stdout",
     "output_type": "stream",
     "text": [
      "This is show function\n"
     ]
    }
   ],
   "source": [
    "# Method to be added to the class\n",
    "def show(self):\n",
    "    print('This is show function')\n",
    "\n",
    "# Creating a class dynamically with a method\n",
    "TestCls = type('TestCls', (), {'show': show})\n",
    "obj = TestCls()\n",
    "obj.show()  # Calling the dynamically added method"
   ]
  },
  {
   "cell_type": "markdown",
   "metadata": {},
   "source": [
    "### 5. Adding Attributes Outside the Class"
   ]
  },
  {
   "cell_type": "code",
   "execution_count": 23,
   "metadata": {},
   "outputs": [
    {
     "name": "stdout",
     "output_type": "stream",
     "text": [
      "x = 1\n",
      "name = Test Class\n"
     ]
    }
   ],
   "source": [
    "# Method to be added to the class\n",
    "def show(self):\n",
    "    print('This is show function')\n",
    "\n",
    "# Creating a class dynamically\n",
    "TestCls = type('TestCls', (), {'show': show})\n",
    "obj = TestCls()\n",
    "\n",
    "# Adding attributes to the object\n",
    "obj.x = 1  # Adding attribute x to object\n",
    "obj.name = \"Test Class\"  # Adding attribute name to object\n",
    "\n",
    "print(f'x = {obj.x}')  # Accessing attribute x\n",
    "print(f'name = {obj.name}')  # Accessing attribute name"
   ]
  },
  {
   "cell_type": "markdown",
   "metadata": {},
   "source": [
    "### 6. Custom Metaclasses"
   ]
  },
  {
   "cell_type": "code",
   "execution_count": 27,
   "metadata": {},
   "outputs": [
    {
     "name": "stdout",
     "output_type": "stream",
     "text": [
      "Creating class MyClass with metaclass <class '__main__.Meta'>\n"
     ]
    }
   ],
   "source": [
    "# Custom metaclass\n",
    "class Meta(type):\n",
    "    def __new__(self, name, bases, attrs):\n",
    "        # Modify the class creation process\n",
    "        print(f'Creating class {name} with metaclass {self}')\n",
    "        return type(name, bases,attrs)\n",
    "\n",
    "# Using the custom metaclass\n",
    "class MyClass(metaclass=Meta):\n",
    "    pass\n"
   ]
  },
  {
   "cell_type": "markdown",
   "metadata": {},
   "source": [
    "### 7. Singleton Pattern Using Metaclass"
   ]
  },
  {
   "cell_type": "code",
   "execution_count": 28,
   "metadata": {},
   "outputs": [
    {
     "name": "stdout",
     "output_type": "stream",
     "text": [
      "10\n",
      "10\n",
      "True\n"
     ]
    }
   ],
   "source": [
    "# singleton metaclass\n",
    "class SingletonMeta(type):\n",
    "    __instances = {}\n",
    "    \n",
    "    def __call__(cls,*args, **kwargs):\n",
    "        if cls not in cls.__instances:\n",
    "            cls.__instances[cls] = super(SingletonMeta, cls).__call__(*args, **kwargs)\n",
    "        return cls.__instances[cls]\n",
    "    \n",
    "# Using the singleton metaclass\n",
    "class SingletonClass(metaclass=SingletonMeta):\n",
    "    def __init__(self, value):\n",
    "        self.value = value\n",
    "        \n",
    "# Testing the singleton class\n",
    "obj1 = SingletonClass(10) # This will create a new object of SingletonClass\n",
    "obj2 = SingletonClass(20) # This will not create a new object but return the existing one\n",
    "\n",
    "print(obj1.value)  # Output: 10\n",
    "print(obj2.value)  # Output: 10 - Same value as obj1\n",
    "print(obj1 == obj2)  # Output: True"
   ]
  }
 ],
 "metadata": {
  "kernelspec": {
   "display_name": "Python 3",
   "language": "python",
   "name": "python3"
  },
  "language_info": {
   "codemirror_mode": {
    "name": "ipython",
    "version": 3
   },
   "file_extension": ".py",
   "mimetype": "text/x-python",
   "name": "python",
   "nbconvert_exporter": "python",
   "pygments_lexer": "ipython3",
   "version": "3.9.11"
  }
 },
 "nbformat": 4,
 "nbformat_minor": 2
}
