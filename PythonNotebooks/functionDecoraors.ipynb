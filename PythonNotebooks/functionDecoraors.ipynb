{
 "cells": [
  {
   "cell_type": "markdown",
   "metadata": {},
   "source": [
    "## Function Decorators in Python\n",
    "In Python, functions are first-class objects,    \n",
    "meaning they can be passed as arguments to other functions.  \n",
    "This allows us to create function decorators,    \n",
    "which modify the behavior of a function without changing its code.\n"
   ]
  },
  {
   "cell_type": "markdown",
   "metadata": {},
   "source": [
    "1. Basic Function Decorator"
   ]
  },
  {
   "cell_type": "code",
   "execution_count": 1,
   "metadata": {},
   "outputs": [],
   "source": [
    "# Simple function\n",
    "def func(string):\n",
    "    def wrapper():\n",
    "        print(\"Start......\")\n",
    "        print(string)\n",
    "        print(\"End......\")\n",
    "    \n",
    "    return wrapper"
   ]
  },
  {
   "cell_type": "code",
   "execution_count": 2,
   "metadata": {},
   "outputs": [
    {
     "name": "stdout",
     "output_type": "stream",
     "text": [
      "Start......\n",
      "Hello World!\n",
      "End......\n"
     ]
    }
   ],
   "source": [
    "x = func(\"Hello World!\")\n",
    "x()"
   ]
  },
  {
   "cell_type": "markdown",
   "metadata": {},
   "source": [
    "2. Function Taking Another Function as an Argument"
   ]
  },
  {
   "cell_type": "code",
   "execution_count": 4,
   "metadata": {},
   "outputs": [],
   "source": [
    "# a Function take function as argument\n",
    "def func(f):\n",
    "    def wrapper():\n",
    "        print(\"Start......\")\n",
    "        f()\n",
    "        print(\"End......\")\n",
    "    \n",
    "    return wrapper"
   ]
  },
  {
   "cell_type": "code",
   "execution_count": 5,
   "metadata": {},
   "outputs": [
    {
     "name": "stdout",
     "output_type": "stream",
     "text": [
      "Start......\n",
      "This is test1 Function\n",
      "End......\n",
      "Start......\n",
      "This is test2 Function\n",
      "End......\n"
     ]
    }
   ],
   "source": [
    "def test1():\n",
    "    print(\"This is test1 Function\")\n",
    "\n",
    "def test2():\n",
    "    print(\"This is test2 Function\")\n",
    "    \n",
    "x = func(test1)\n",
    "y = func(test2)\n",
    "x()\n",
    "y()"
   ]
  },
  {
   "cell_type": "markdown",
   "metadata": {},
   "source": [
    "3. Using @ Syntax for Decorators"
   ]
  },
  {
   "cell_type": "code",
   "execution_count": 6,
   "metadata": {},
   "outputs": [
    {
     "name": "stdout",
     "output_type": "stream",
     "text": [
      "Start......\n",
      "I am a Player\n",
      "End......\n"
     ]
    }
   ],
   "source": [
    "@func # need to have wrapper function to call or (implemet and return)\n",
    "def Player():\n",
    "    print(\"I am a Player\")\n",
    "    \n",
    "Player()  # Equivalent to func(Player)"
   ]
  },
  {
   "cell_type": "markdown",
   "metadata": {},
   "source": [
    "4. Handling Arguments with `*args` and `**kwargs`"
   ]
  },
  {
   "cell_type": "code",
   "execution_count": 7,
   "metadata": {},
   "outputs": [],
   "source": [
    "# what happens when the functions accepts the arguments or keywords and return the value\n",
    "# so we need to tell wrapper to accept any arguments or keywords.\n",
    "# for work all the function\n",
    "\n",
    "def func(f):\n",
    "    def wrapper(*args, **kwargs):\n",
    "        print(\"Start......\")\n",
    "        rv = f(*args, **kwargs)\n",
    "        print(\"End......\")\n",
    "        return rv\n",
    "    \n",
    "    return wrapper"
   ]
  },
  {
   "cell_type": "code",
   "execution_count": 9,
   "metadata": {},
   "outputs": [
    {
     "name": "stdout",
     "output_type": "stream",
     "text": [
      "Start......\n",
      "End......\n",
      "I am a Teacher John\n",
      "Start......\n",
      "End......\n",
      "I am a Student Alex and 20 years old\n"
     ]
    }
   ],
   "source": [
    "@func\n",
    "def Teacher(name):\n",
    "    return f\"I am a Teacher {name}\"\n",
    "\n",
    "@func\n",
    "def Student(name, age):\n",
    "    return f\"I am a Student {name} and {age} years old\"\n",
    "\n",
    "t = Teacher(\"John\")\n",
    "print(t)\n",
    "s = Student(\"Alex\", 20)\n",
    "print(s)"
   ]
  },
  {
   "cell_type": "markdown",
   "metadata": {},
   "source": [
    "5. Creating a Timer Decorator"
   ]
  },
  {
   "cell_type": "code",
   "execution_count": 10,
   "metadata": {},
   "outputs": [],
   "source": [
    "import time\n",
    "\n",
    "def timer(f):\n",
    "    def wrapper(*args, **kwargs):\n",
    "        start = time.time() # Start timing\n",
    "        rv = f(*args, **kwargs) # Call the function\n",
    "        total = time.time() - start # Calculate execution time\n",
    "        print(f\"Time: {total}\")  # Print the execution time\n",
    "        return rv # Return result\n",
    "    \n",
    "    return wrapper"
   ]
  },
  {
   "cell_type": "code",
   "execution_count": 11,
   "metadata": {},
   "outputs": [
    {
     "name": "stdout",
     "output_type": "stream",
     "text": [
      "Time: 0.008016109466552734\n"
     ]
    }
   ],
   "source": [
    "@timer \n",
    "def test(): # example to check how long will to loop for 1000000 times\n",
    "    for _ in range(1000000): # Loop for some time\n",
    "        pass\n",
    "\n",
    "test()"
   ]
  },
  {
   "cell_type": "code",
   "execution_count": null,
   "metadata": {},
   "outputs": [
    {
     "name": "stdout",
     "output_type": "stream",
     "text": [
      "Time: 1.0091745853424072\n"
     ]
    }
   ],
   "source": [
    "@timer # Measuring Time for a Delayed Function\n",
    "def test2():\n",
    "    time.sleep(1.0)\n",
    "\n",
    "test2()"
   ]
  },
  {
   "cell_type": "markdown",
   "metadata": {},
   "source": [
    "6. Applying Multiple Decorators to a Function"
   ]
  },
  {
   "cell_type": "code",
   "execution_count": 16,
   "metadata": {},
   "outputs": [
    {
     "name": "stdout",
     "output_type": "stream",
     "text": [
      "Start......\n",
      "Hello !!!!!\n",
      "End......\n",
      "Time: 1.0022363662719727\n"
     ]
    }
   ],
   "source": [
    "@timer\n",
    "@func\n",
    "def say_hello():\n",
    "    time.sleep(1)\n",
    "    print(\"Hello !!!!!\")\n",
    "    \n",
    "say_hello()"
   ]
  }
 ],
 "metadata": {
  "kernelspec": {
   "display_name": "Python 3",
   "language": "python",
   "name": "python3"
  },
  "language_info": {
   "codemirror_mode": {
    "name": "ipython",
    "version": 3
   },
   "file_extension": ".py",
   "mimetype": "text/x-python",
   "name": "python",
   "nbconvert_exporter": "python",
   "pygments_lexer": "ipython3",
   "version": "3.9.11"
  }
 },
 "nbformat": 4,
 "nbformat_minor": 2
}
