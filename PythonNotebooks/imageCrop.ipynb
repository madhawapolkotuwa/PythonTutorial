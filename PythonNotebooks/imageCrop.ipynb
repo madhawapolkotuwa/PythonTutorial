{
 "cells": [
  {
   "cell_type": "code",
   "execution_count": 2,
   "metadata": {},
   "outputs": [],
   "source": [
    "from PIL import Image\n",
    "import os"
   ]
  },
  {
   "cell_type": "code",
   "execution_count": 4,
   "metadata": {},
   "outputs": [
    {
     "name": "stdout",
     "output_type": "stream",
     "text": [
      "1632 x 2912\n",
      "1632 x 2912\n",
      "2048 x 2048\n"
     ]
    }
   ],
   "source": [
    "# Folder containing the images\n",
    "folder_path = 'Images/'\n",
    "\n",
    "# list to store the images\n",
    "images = []\n",
    "\n",
    "# Store the cropped images\n",
    "cropped_images = []\n",
    "\n",
    "# Loop through the folder and add the images to the list\n",
    "for filename in os.listdir(folder_path):\n",
    "    if filename.endswith('.png') or filename.endswith('.jpg') or filename.endswith('.jpeg'):\n",
    "        # build the full image path\n",
    "        image_path = os.path.join(folder_path, filename)\n",
    "        # open the image and add it to the list\n",
    "        img = Image.open(image_path)\n",
    "        \n",
    "        width, height = img.size\n",
    "        \n",
    "        # Get the original filename\n",
    "        original_filename = os.path.splitext(os.path.basename(image_path))[0]\n",
    "        print(f'{width} x {height}')\n",
    "        \n",
    "        # Define the coordinates to crop the image\n",
    "        crop = [(0,0, width/2, height/2),           # top-left corner image\n",
    "                (width/2, 0, width,height/2),        # top-right corner image\n",
    "                (0, height/2, width/2, height),      # bottom-left corner image\n",
    "                (width/2, height/2, width, height)]  # bottom-right corner image   \n",
    "        \n",
    "        \n",
    "        # Loop through the coordinates and crop the image\n",
    "        for i, crop_coords in enumerate(crop):\n",
    "            cropped = img.crop(crop_coords)\n",
    "            cropped_images.append(cropped)\n",
    "            \n",
    "            if filename.endswith('.png'):\n",
    "                cropped.save(f'CroppedImages/{original_filename}_{i+1}.png')\n",
    "            if filename.endswith('.jpg'):\n",
    "                cropped.save(f'CroppedImages/{original_filename}_{i+1}.jpg')\n",
    "            if filename.endswith('.jpeg'):\n",
    "                cropped.save(f'CroppedImages/{original_filename}_{i+1}.jpeg')\n",
    "            \n",
    "        "
   ]
  }
 ],
 "metadata": {
  "kernelspec": {
   "display_name": "Python 3",
   "language": "python",
   "name": "python3"
  },
  "language_info": {
   "codemirror_mode": {
    "name": "ipython",
    "version": 3
   },
   "file_extension": ".py",
   "mimetype": "text/x-python",
   "name": "python",
   "nbconvert_exporter": "python",
   "pygments_lexer": "ipython3",
   "version": "3.9.11"
  }
 },
 "nbformat": 4,
 "nbformat_minor": 2
}
