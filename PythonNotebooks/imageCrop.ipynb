{
 "cells": [
  {
   "cell_type": "code",
   "execution_count": 2,
   "metadata": {},
   "outputs": [],
   "source": [
    "from PIL import Image\n",
    "import os"
   ]
  },
  {
   "cell_type": "code",
   "execution_count": 4,
   "metadata": {},
   "outputs": [
    {
     "name": "stdout",
     "output_type": "stream",
     "text": [
      "1632 x 2912\n",
      "1632 x 2912\n",
      "2048 x 2048\n"
     ]
    }
   ],
   "source": [
    "# Folder containing the images\n",
    "folder_path = \"../\"\n",
    "output_folder = \"../Single/\"\n",
    "\n",
    "# Ensure the output folder exists\n",
    "os.makedirs(output_folder, exist_ok=True)\n",
    "\n",
    "# Loop through the folder and process images\n",
    "for filename in os.listdir(folder_path):\n",
    "    if filename.lower().endswith((\".png\", \".jpg\", \".jpeg\")):\n",
    "        try:\n",
    "            # Build the full image path\n",
    "            image_path = os.path.join(folder_path, filename)\n",
    "            img = Image.open(image_path)\n",
    "\n",
    "            # Get the original image file name without the extension\n",
    "            original_filename, ext = os.path.splitext(filename)\n",
    "            ext = ext.lower()\n",
    "\n",
    "            # Get image dimensions\n",
    "            width, height = img.size\n",
    "            print(f\"Processing {filename}: {width} x {height}\")\n",
    "\n",
    "            # Define the coordinates to crop the image\n",
    "            crop_coords = [\n",
    "                (0, 0, width / 2, height / 2),  # Top-left corner\n",
    "                (width / 2, 0, width, height / 2),  # Top-right corner\n",
    "                (0, height / 2, width / 2, height),  # Bottom-left corner\n",
    "                (width / 2, height / 2, width, height)  # Bottom-right corner\n",
    "            ]\n",
    "\n",
    "            # Loop through the coordinates and crop the image\n",
    "            for i, coords in enumerate(crop_coords):\n",
    "                cropped_img = img.crop(coords)\n",
    "                output_path = os.path.join(output_folder, f\"{original_filename}_{i+1}{ext}\")\n",
    "                cropped_img.save(output_path)\n",
    "\n",
    "            print(f\"Successfully saved cropped images for {filename}\\n\")\n",
    "        except Exception as e:\n",
    "            print(f\"Error processing {filename}: {e}\")\n",
    "\n",
    "print(\"Cropping complete!\")\n",
    "            \n",
    "        "
   ]
  }
 ],
 "metadata": {
  "kernelspec": {
   "display_name": "Python 3",
   "language": "python",
   "name": "python3"
  },
  "language_info": {
   "codemirror_mode": {
    "name": "ipython",
    "version": 3
   },
   "file_extension": ".py",
   "mimetype": "text/x-python",
   "name": "python",
   "nbconvert_exporter": "python",
   "pygments_lexer": "ipython3",
   "version": "3.9.11"
  }
 },
 "nbformat": 4,
 "nbformat_minor": 2
}
